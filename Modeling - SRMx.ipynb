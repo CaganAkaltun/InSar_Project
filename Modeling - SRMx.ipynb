{
 "cells": [
  {
   "cell_type": "markdown",
   "id": "3af18ff4-3e0e-4184-b835-03b2fac2a693",
   "metadata": {},
   "source": [
    "# **Applying SARIMAX Model for time series forescasting**"
   ]
  },
  {
   "cell_type": "markdown",
   "id": "1286e775-867b-4d7c-a2af-4d7221d8a5e0",
   "metadata": {},
   "source": [
    "## **Preparations:**"
   ]
  },
  {
   "cell_type": "markdown",
   "id": "c4339aa9-4be1-4eef-b6b1-af2d5ffad729",
   "metadata": {},
   "source": [
    "**Imports:**"
   ]
  },
  {
   "cell_type": "code",
   "execution_count": 3,
   "id": "5f07ff62-02c4-4c20-807c-f19de777ae8c",
   "metadata": {},
   "outputs": [],
   "source": [
    "import pandas as pd\n",
    "import matplotlib.pyplot as plt\n",
    "import numpy as np\n",
    "import warnings\n",
    "\n",
    "import logging\n",
    "import timeforecastinghandler\n",
    "\n",
    "from sklearn.metrics import mean_squared_error, mean_absolute_error\n",
    "\n",
    "warnings.filterwarnings('ignore')"
   ]
  },
  {
   "cell_type": "code",
   "execution_count": null,
   "id": "e16aaf86-861a-412c-9b5e-172918340bac",
   "metadata": {},
   "outputs": [],
   "source": []
  }
 ],
 "metadata": {
  "kernelspec": {
   "display_name": "Python 3 (ipykernel)",
   "language": "python",
   "name": "python3"
  },
  "language_info": {
   "codemirror_mode": {
    "name": "ipython",
    "version": 3
   },
   "file_extension": ".py",
   "mimetype": "text/x-python",
   "name": "python",
   "nbconvert_exporter": "python",
   "pygments_lexer": "ipython3",
   "version": "3.11.8"
  }
 },
 "nbformat": 4,
 "nbformat_minor": 5
}
